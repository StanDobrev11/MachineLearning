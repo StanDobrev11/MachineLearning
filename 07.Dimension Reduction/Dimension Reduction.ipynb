{
 "cells": [
  {
   "cell_type": "code",
   "execution_count": 1,
   "id": "initial_id",
   "metadata": {},
   "outputs": [],
   "source": [
    "%matplotlib inline"
   ]
  },
  {
   "cell_type": "code",
   "execution_count": 1,
   "id": "85e9ffed-f2da-4757-8513-40add0518a59",
   "metadata": {},
   "outputs": [],
   "source": [
    "import pandas as pd\n",
    "import numpy as np\n",
    "import matplotlib.pyplot as plt\n",
    "\n",
    "from sklearn.feature_extraction.text import TfidfVectorizer\n",
    "from sklearn.datasets import load_iris, fetch_20newsgroups\n",
    "from sklearn.decomposition import PCA"
   ]
  },
  {
   "cell_type": "markdown",
   "id": "b860e1c5-533b-47c2-a10f-b05bd28a03c4",
   "metadata": {},
   "source": [
    "# Dimensional Reduction\n",
    "\n",
    "## Live Demo"
   ]
  },
  {
   "cell_type": "code",
   "execution_count": 4,
   "id": "016be512-cebc-4257-9b40-f837f703e34e",
   "metadata": {},
   "outputs": [],
   "source": [
    "iris = load_iris()"
   ]
  },
  {
   "cell_type": "code",
   "execution_count": 7,
   "id": "def8d8d6-866d-4908-90f1-774a09ca6b6e",
   "metadata": {},
   "outputs": [],
   "source": [
    "attrs, tgt = iris['data'], iris['target']"
   ]
  },
  {
   "cell_type": "code",
   "execution_count": 8,
   "id": "618b1123-b33c-414c-984c-c555d7d93281",
   "metadata": {},
   "outputs": [],
   "source": [
    "pca = PCA()"
   ]
  },
  {
   "cell_type": "code",
   "execution_count": 9,
   "id": "f66c63fd-e248-4fb7-8fda-3c21ed9c0e1f",
   "metadata": {},
   "outputs": [
    {
     "data": {
      "text/html": [
       "<style>#sk-container-id-1 {\n",
       "  /* Definition of color scheme common for light and dark mode */\n",
       "  --sklearn-color-text: black;\n",
       "  --sklearn-color-line: gray;\n",
       "  /* Definition of color scheme for unfitted estimators */\n",
       "  --sklearn-color-unfitted-level-0: #fff5e6;\n",
       "  --sklearn-color-unfitted-level-1: #f6e4d2;\n",
       "  --sklearn-color-unfitted-level-2: #ffe0b3;\n",
       "  --sklearn-color-unfitted-level-3: chocolate;\n",
       "  /* Definition of color scheme for fitted estimators */\n",
       "  --sklearn-color-fitted-level-0: #f0f8ff;\n",
       "  --sklearn-color-fitted-level-1: #d4ebff;\n",
       "  --sklearn-color-fitted-level-2: #b3dbfd;\n",
       "  --sklearn-color-fitted-level-3: cornflowerblue;\n",
       "\n",
       "  /* Specific color for light theme */\n",
       "  --sklearn-color-text-on-default-background: var(--sg-text-color, var(--theme-code-foreground, var(--jp-content-font-color1, black)));\n",
       "  --sklearn-color-background: var(--sg-background-color, var(--theme-background, var(--jp-layout-color0, white)));\n",
       "  --sklearn-color-border-box: var(--sg-text-color, var(--theme-code-foreground, var(--jp-content-font-color1, black)));\n",
       "  --sklearn-color-icon: #696969;\n",
       "\n",
       "  @media (prefers-color-scheme: dark) {\n",
       "    /* Redefinition of color scheme for dark theme */\n",
       "    --sklearn-color-text-on-default-background: var(--sg-text-color, var(--theme-code-foreground, var(--jp-content-font-color1, white)));\n",
       "    --sklearn-color-background: var(--sg-background-color, var(--theme-background, var(--jp-layout-color0, #111)));\n",
       "    --sklearn-color-border-box: var(--sg-text-color, var(--theme-code-foreground, var(--jp-content-font-color1, white)));\n",
       "    --sklearn-color-icon: #878787;\n",
       "  }\n",
       "}\n",
       "\n",
       "#sk-container-id-1 {\n",
       "  color: var(--sklearn-color-text);\n",
       "}\n",
       "\n",
       "#sk-container-id-1 pre {\n",
       "  padding: 0;\n",
       "}\n",
       "\n",
       "#sk-container-id-1 input.sk-hidden--visually {\n",
       "  border: 0;\n",
       "  clip: rect(1px 1px 1px 1px);\n",
       "  clip: rect(1px, 1px, 1px, 1px);\n",
       "  height: 1px;\n",
       "  margin: -1px;\n",
       "  overflow: hidden;\n",
       "  padding: 0;\n",
       "  position: absolute;\n",
       "  width: 1px;\n",
       "}\n",
       "\n",
       "#sk-container-id-1 div.sk-dashed-wrapped {\n",
       "  border: 1px dashed var(--sklearn-color-line);\n",
       "  margin: 0 0.4em 0.5em 0.4em;\n",
       "  box-sizing: border-box;\n",
       "  padding-bottom: 0.4em;\n",
       "  background-color: var(--sklearn-color-background);\n",
       "}\n",
       "\n",
       "#sk-container-id-1 div.sk-container {\n",
       "  /* jupyter's `normalize.less` sets `[hidden] { display: none; }`\n",
       "     but bootstrap.min.css set `[hidden] { display: none !important; }`\n",
       "     so we also need the `!important` here to be able to override the\n",
       "     default hidden behavior on the sphinx rendered scikit-learn.org.\n",
       "     See: https://github.com/scikit-learn/scikit-learn/issues/21755 */\n",
       "  display: inline-block !important;\n",
       "  position: relative;\n",
       "}\n",
       "\n",
       "#sk-container-id-1 div.sk-text-repr-fallback {\n",
       "  display: none;\n",
       "}\n",
       "\n",
       "div.sk-parallel-item,\n",
       "div.sk-serial,\n",
       "div.sk-item {\n",
       "  /* draw centered vertical line to link estimators */\n",
       "  background-image: linear-gradient(var(--sklearn-color-text-on-default-background), var(--sklearn-color-text-on-default-background));\n",
       "  background-size: 2px 100%;\n",
       "  background-repeat: no-repeat;\n",
       "  background-position: center center;\n",
       "}\n",
       "\n",
       "/* Parallel-specific style estimator block */\n",
       "\n",
       "#sk-container-id-1 div.sk-parallel-item::after {\n",
       "  content: \"\";\n",
       "  width: 100%;\n",
       "  border-bottom: 2px solid var(--sklearn-color-text-on-default-background);\n",
       "  flex-grow: 1;\n",
       "}\n",
       "\n",
       "#sk-container-id-1 div.sk-parallel {\n",
       "  display: flex;\n",
       "  align-items: stretch;\n",
       "  justify-content: center;\n",
       "  background-color: var(--sklearn-color-background);\n",
       "  position: relative;\n",
       "}\n",
       "\n",
       "#sk-container-id-1 div.sk-parallel-item {\n",
       "  display: flex;\n",
       "  flex-direction: column;\n",
       "}\n",
       "\n",
       "#sk-container-id-1 div.sk-parallel-item:first-child::after {\n",
       "  align-self: flex-end;\n",
       "  width: 50%;\n",
       "}\n",
       "\n",
       "#sk-container-id-1 div.sk-parallel-item:last-child::after {\n",
       "  align-self: flex-start;\n",
       "  width: 50%;\n",
       "}\n",
       "\n",
       "#sk-container-id-1 div.sk-parallel-item:only-child::after {\n",
       "  width: 0;\n",
       "}\n",
       "\n",
       "/* Serial-specific style estimator block */\n",
       "\n",
       "#sk-container-id-1 div.sk-serial {\n",
       "  display: flex;\n",
       "  flex-direction: column;\n",
       "  align-items: center;\n",
       "  background-color: var(--sklearn-color-background);\n",
       "  padding-right: 1em;\n",
       "  padding-left: 1em;\n",
       "}\n",
       "\n",
       "\n",
       "/* Toggleable style: style used for estimator/Pipeline/ColumnTransformer box that is\n",
       "clickable and can be expanded/collapsed.\n",
       "- Pipeline and ColumnTransformer use this feature and define the default style\n",
       "- Estimators will overwrite some part of the style using the `sk-estimator` class\n",
       "*/\n",
       "\n",
       "/* Pipeline and ColumnTransformer style (default) */\n",
       "\n",
       "#sk-container-id-1 div.sk-toggleable {\n",
       "  /* Default theme specific background. It is overwritten whether we have a\n",
       "  specific estimator or a Pipeline/ColumnTransformer */\n",
       "  background-color: var(--sklearn-color-background);\n",
       "}\n",
       "\n",
       "/* Toggleable label */\n",
       "#sk-container-id-1 label.sk-toggleable__label {\n",
       "  cursor: pointer;\n",
       "  display: block;\n",
       "  width: 100%;\n",
       "  margin-bottom: 0;\n",
       "  padding: 0.5em;\n",
       "  box-sizing: border-box;\n",
       "  text-align: center;\n",
       "}\n",
       "\n",
       "#sk-container-id-1 label.sk-toggleable__label-arrow:before {\n",
       "  /* Arrow on the left of the label */\n",
       "  content: \"▸\";\n",
       "  float: left;\n",
       "  margin-right: 0.25em;\n",
       "  color: var(--sklearn-color-icon);\n",
       "}\n",
       "\n",
       "#sk-container-id-1 label.sk-toggleable__label-arrow:hover:before {\n",
       "  color: var(--sklearn-color-text);\n",
       "}\n",
       "\n",
       "/* Toggleable content - dropdown */\n",
       "\n",
       "#sk-container-id-1 div.sk-toggleable__content {\n",
       "  max-height: 0;\n",
       "  max-width: 0;\n",
       "  overflow: hidden;\n",
       "  text-align: left;\n",
       "  /* unfitted */\n",
       "  background-color: var(--sklearn-color-unfitted-level-0);\n",
       "}\n",
       "\n",
       "#sk-container-id-1 div.sk-toggleable__content.fitted {\n",
       "  /* fitted */\n",
       "  background-color: var(--sklearn-color-fitted-level-0);\n",
       "}\n",
       "\n",
       "#sk-container-id-1 div.sk-toggleable__content pre {\n",
       "  margin: 0.2em;\n",
       "  border-radius: 0.25em;\n",
       "  color: var(--sklearn-color-text);\n",
       "  /* unfitted */\n",
       "  background-color: var(--sklearn-color-unfitted-level-0);\n",
       "}\n",
       "\n",
       "#sk-container-id-1 div.sk-toggleable__content.fitted pre {\n",
       "  /* unfitted */\n",
       "  background-color: var(--sklearn-color-fitted-level-0);\n",
       "}\n",
       "\n",
       "#sk-container-id-1 input.sk-toggleable__control:checked~div.sk-toggleable__content {\n",
       "  /* Expand drop-down */\n",
       "  max-height: 200px;\n",
       "  max-width: 100%;\n",
       "  overflow: auto;\n",
       "}\n",
       "\n",
       "#sk-container-id-1 input.sk-toggleable__control:checked~label.sk-toggleable__label-arrow:before {\n",
       "  content: \"▾\";\n",
       "}\n",
       "\n",
       "/* Pipeline/ColumnTransformer-specific style */\n",
       "\n",
       "#sk-container-id-1 div.sk-label input.sk-toggleable__control:checked~label.sk-toggleable__label {\n",
       "  color: var(--sklearn-color-text);\n",
       "  background-color: var(--sklearn-color-unfitted-level-2);\n",
       "}\n",
       "\n",
       "#sk-container-id-1 div.sk-label.fitted input.sk-toggleable__control:checked~label.sk-toggleable__label {\n",
       "  background-color: var(--sklearn-color-fitted-level-2);\n",
       "}\n",
       "\n",
       "/* Estimator-specific style */\n",
       "\n",
       "/* Colorize estimator box */\n",
       "#sk-container-id-1 div.sk-estimator input.sk-toggleable__control:checked~label.sk-toggleable__label {\n",
       "  /* unfitted */\n",
       "  background-color: var(--sklearn-color-unfitted-level-2);\n",
       "}\n",
       "\n",
       "#sk-container-id-1 div.sk-estimator.fitted input.sk-toggleable__control:checked~label.sk-toggleable__label {\n",
       "  /* fitted */\n",
       "  background-color: var(--sklearn-color-fitted-level-2);\n",
       "}\n",
       "\n",
       "#sk-container-id-1 div.sk-label label.sk-toggleable__label,\n",
       "#sk-container-id-1 div.sk-label label {\n",
       "  /* The background is the default theme color */\n",
       "  color: var(--sklearn-color-text-on-default-background);\n",
       "}\n",
       "\n",
       "/* On hover, darken the color of the background */\n",
       "#sk-container-id-1 div.sk-label:hover label.sk-toggleable__label {\n",
       "  color: var(--sklearn-color-text);\n",
       "  background-color: var(--sklearn-color-unfitted-level-2);\n",
       "}\n",
       "\n",
       "/* Label box, darken color on hover, fitted */\n",
       "#sk-container-id-1 div.sk-label.fitted:hover label.sk-toggleable__label.fitted {\n",
       "  color: var(--sklearn-color-text);\n",
       "  background-color: var(--sklearn-color-fitted-level-2);\n",
       "}\n",
       "\n",
       "/* Estimator label */\n",
       "\n",
       "#sk-container-id-1 div.sk-label label {\n",
       "  font-family: monospace;\n",
       "  font-weight: bold;\n",
       "  display: inline-block;\n",
       "  line-height: 1.2em;\n",
       "}\n",
       "\n",
       "#sk-container-id-1 div.sk-label-container {\n",
       "  text-align: center;\n",
       "}\n",
       "\n",
       "/* Estimator-specific */\n",
       "#sk-container-id-1 div.sk-estimator {\n",
       "  font-family: monospace;\n",
       "  border: 1px dotted var(--sklearn-color-border-box);\n",
       "  border-radius: 0.25em;\n",
       "  box-sizing: border-box;\n",
       "  margin-bottom: 0.5em;\n",
       "  /* unfitted */\n",
       "  background-color: var(--sklearn-color-unfitted-level-0);\n",
       "}\n",
       "\n",
       "#sk-container-id-1 div.sk-estimator.fitted {\n",
       "  /* fitted */\n",
       "  background-color: var(--sklearn-color-fitted-level-0);\n",
       "}\n",
       "\n",
       "/* on hover */\n",
       "#sk-container-id-1 div.sk-estimator:hover {\n",
       "  /* unfitted */\n",
       "  background-color: var(--sklearn-color-unfitted-level-2);\n",
       "}\n",
       "\n",
       "#sk-container-id-1 div.sk-estimator.fitted:hover {\n",
       "  /* fitted */\n",
       "  background-color: var(--sklearn-color-fitted-level-2);\n",
       "}\n",
       "\n",
       "/* Specification for estimator info (e.g. \"i\" and \"?\") */\n",
       "\n",
       "/* Common style for \"i\" and \"?\" */\n",
       "\n",
       ".sk-estimator-doc-link,\n",
       "a:link.sk-estimator-doc-link,\n",
       "a:visited.sk-estimator-doc-link {\n",
       "  float: right;\n",
       "  font-size: smaller;\n",
       "  line-height: 1em;\n",
       "  font-family: monospace;\n",
       "  background-color: var(--sklearn-color-background);\n",
       "  border-radius: 1em;\n",
       "  height: 1em;\n",
       "  width: 1em;\n",
       "  text-decoration: none !important;\n",
       "  margin-left: 1ex;\n",
       "  /* unfitted */\n",
       "  border: var(--sklearn-color-unfitted-level-1) 1pt solid;\n",
       "  color: var(--sklearn-color-unfitted-level-1);\n",
       "}\n",
       "\n",
       ".sk-estimator-doc-link.fitted,\n",
       "a:link.sk-estimator-doc-link.fitted,\n",
       "a:visited.sk-estimator-doc-link.fitted {\n",
       "  /* fitted */\n",
       "  border: var(--sklearn-color-fitted-level-1) 1pt solid;\n",
       "  color: var(--sklearn-color-fitted-level-1);\n",
       "}\n",
       "\n",
       "/* On hover */\n",
       "div.sk-estimator:hover .sk-estimator-doc-link:hover,\n",
       ".sk-estimator-doc-link:hover,\n",
       "div.sk-label-container:hover .sk-estimator-doc-link:hover,\n",
       ".sk-estimator-doc-link:hover {\n",
       "  /* unfitted */\n",
       "  background-color: var(--sklearn-color-unfitted-level-3);\n",
       "  color: var(--sklearn-color-background);\n",
       "  text-decoration: none;\n",
       "}\n",
       "\n",
       "div.sk-estimator.fitted:hover .sk-estimator-doc-link.fitted:hover,\n",
       ".sk-estimator-doc-link.fitted:hover,\n",
       "div.sk-label-container:hover .sk-estimator-doc-link.fitted:hover,\n",
       ".sk-estimator-doc-link.fitted:hover {\n",
       "  /* fitted */\n",
       "  background-color: var(--sklearn-color-fitted-level-3);\n",
       "  color: var(--sklearn-color-background);\n",
       "  text-decoration: none;\n",
       "}\n",
       "\n",
       "/* Span, style for the box shown on hovering the info icon */\n",
       ".sk-estimator-doc-link span {\n",
       "  display: none;\n",
       "  z-index: 9999;\n",
       "  position: relative;\n",
       "  font-weight: normal;\n",
       "  right: .2ex;\n",
       "  padding: .5ex;\n",
       "  margin: .5ex;\n",
       "  width: min-content;\n",
       "  min-width: 20ex;\n",
       "  max-width: 50ex;\n",
       "  color: var(--sklearn-color-text);\n",
       "  box-shadow: 2pt 2pt 4pt #999;\n",
       "  /* unfitted */\n",
       "  background: var(--sklearn-color-unfitted-level-0);\n",
       "  border: .5pt solid var(--sklearn-color-unfitted-level-3);\n",
       "}\n",
       "\n",
       ".sk-estimator-doc-link.fitted span {\n",
       "  /* fitted */\n",
       "  background: var(--sklearn-color-fitted-level-0);\n",
       "  border: var(--sklearn-color-fitted-level-3);\n",
       "}\n",
       "\n",
       ".sk-estimator-doc-link:hover span {\n",
       "  display: block;\n",
       "}\n",
       "\n",
       "/* \"?\"-specific style due to the `<a>` HTML tag */\n",
       "\n",
       "#sk-container-id-1 a.estimator_doc_link {\n",
       "  float: right;\n",
       "  font-size: 1rem;\n",
       "  line-height: 1em;\n",
       "  font-family: monospace;\n",
       "  background-color: var(--sklearn-color-background);\n",
       "  border-radius: 1rem;\n",
       "  height: 1rem;\n",
       "  width: 1rem;\n",
       "  text-decoration: none;\n",
       "  /* unfitted */\n",
       "  color: var(--sklearn-color-unfitted-level-1);\n",
       "  border: var(--sklearn-color-unfitted-level-1) 1pt solid;\n",
       "}\n",
       "\n",
       "#sk-container-id-1 a.estimator_doc_link.fitted {\n",
       "  /* fitted */\n",
       "  border: var(--sklearn-color-fitted-level-1) 1pt solid;\n",
       "  color: var(--sklearn-color-fitted-level-1);\n",
       "}\n",
       "\n",
       "/* On hover */\n",
       "#sk-container-id-1 a.estimator_doc_link:hover {\n",
       "  /* unfitted */\n",
       "  background-color: var(--sklearn-color-unfitted-level-3);\n",
       "  color: var(--sklearn-color-background);\n",
       "  text-decoration: none;\n",
       "}\n",
       "\n",
       "#sk-container-id-1 a.estimator_doc_link.fitted:hover {\n",
       "  /* fitted */\n",
       "  background-color: var(--sklearn-color-fitted-level-3);\n",
       "}\n",
       "</style><div id=\"sk-container-id-1\" class=\"sk-top-container\"><div class=\"sk-text-repr-fallback\"><pre>PCA()</pre><b>In a Jupyter environment, please rerun this cell to show the HTML representation or trust the notebook. <br />On GitHub, the HTML representation is unable to render, please try loading this page with nbviewer.org.</b></div><div class=\"sk-container\" hidden><div class=\"sk-item\"><div class=\"sk-estimator fitted sk-toggleable\"><input class=\"sk-toggleable__control sk-hidden--visually\" id=\"sk-estimator-id-1\" type=\"checkbox\" checked><label for=\"sk-estimator-id-1\" class=\"sk-toggleable__label fitted sk-toggleable__label-arrow fitted\">&nbsp;&nbsp;PCA<a class=\"sk-estimator-doc-link fitted\" rel=\"noreferrer\" target=\"_blank\" href=\"https://scikit-learn.org/1.5/modules/generated/sklearn.decomposition.PCA.html\">?<span>Documentation for PCA</span></a><span class=\"sk-estimator-doc-link fitted\">i<span>Fitted</span></span></label><div class=\"sk-toggleable__content fitted\"><pre>PCA()</pre></div> </div></div></div></div>"
      ],
      "text/plain": [
       "PCA()"
      ]
     },
     "execution_count": 9,
     "metadata": {},
     "output_type": "execute_result"
    }
   ],
   "source": [
    "pca.fit(attrs)"
   ]
  },
  {
   "cell_type": "code",
   "execution_count": 10,
   "id": "424ce08f-a27c-4b92-adaf-724643dbd04d",
   "metadata": {},
   "outputs": [
    {
     "data": {
      "text/plain": [
       "array([[ 0.36138659, -0.08452251,  0.85667061,  0.3582892 ],\n",
       "       [ 0.65658877,  0.73016143, -0.17337266, -0.07548102],\n",
       "       [-0.58202985,  0.59791083,  0.07623608,  0.54583143],\n",
       "       [ 0.31548719, -0.3197231 , -0.47983899,  0.75365743]])"
      ]
     },
     "execution_count": 10,
     "metadata": {},
     "output_type": "execute_result"
    }
   ],
   "source": [
    "pca.components_"
   ]
  },
  {
   "cell_type": "code",
   "execution_count": 11,
   "id": "f2662e44-2200-496b-a234-3021b4a28784",
   "metadata": {},
   "outputs": [
    {
     "data": {
      "text/plain": [
       "array([5.84333333, 3.05733333, 3.758     , 1.19933333])"
      ]
     },
     "execution_count": 11,
     "metadata": {},
     "output_type": "execute_result"
    }
   ],
   "source": [
    "pca.mean_"
   ]
  },
  {
   "cell_type": "code",
   "execution_count": 16,
   "id": "5214dce1-09cc-4909-b016-b187a9e8b0bc",
   "metadata": {},
   "outputs": [],
   "source": [
    "transformed_attr = pca.transform(attrs)"
   ]
  },
  {
   "cell_type": "code",
   "execution_count": 22,
   "id": "b5a67e55-6254-4186-90c8-eb1b7862912f",
   "metadata": {},
   "outputs": [
    {
     "data": {
      "text/plain": [
       "array([2.04940319, 0.49097143, 0.27872586, 0.1538707 ])"
      ]
     },
     "execution_count": 22,
     "metadata": {},
     "output_type": "execute_result"
    }
   ],
   "source": [
    "transformed_attr.std(axis=0)"
   ]
  },
  {
   "cell_type": "code",
   "execution_count": 24,
   "id": "fca8f22e-8c23-46da-ad47-7d7302aed531",
   "metadata": {},
   "outputs": [
    {
     "data": {
      "text/plain": [
       "<matplotlib.collections.PathCollection at 0x140cd57e190>"
      ]
     },
     "execution_count": 24,
     "metadata": {},
     "output_type": "execute_result"
    },
    {
     "data": {
      "image/png": "[encoded data removed]",
      "text/plain": [
       "<Figure size 640x480 with 1 Axes>"
      ]
     },
     "metadata": {},
     "output_type": "display_data"
    }
   ],
   "source": [
    "plt.scatter(transformed_attr[:, 0], transformed_attr[:, 1])"
   ]
  },
  {
   "cell_type": "code",
   "execution_count": 25,
   "id": "0a14ab0d-7b3f-413b-8bb2-b00e4849f3de",
   "metadata": {},
   "outputs": [
    {
     "data": {
      "text/plain": [
       "<matplotlib.collections.PathCollection at 0x140cd5c45b0>"
      ]
     },
     "execution_count": 25,
     "metadata": {},
     "output_type": "execute_result"
    },
    {
     "data": {
      "image/png": "[encoded data removed]",
      "text/plain": [
       "<Figure size 640x480 with 1 Axes>"
      ]
     },
     "metadata": {},
     "output_type": "display_data"
    }
   ],
   "source": [
    "plt.scatter(transformed_attr[:, 2], transformed_attr[:, 3])"
   ]
  },
  {
   "cell_type": "code",
   "execution_count": 27,
   "id": "5f623158-229d-42c5-a9f6-c0da1bc024f1",
   "metadata": {},
   "outputs": [
    {
     "data": {
      "text/plain": [
       "<matplotlib.collections.PathCollection at 0x140cd65b130>"
      ]
     },
     "execution_count": 27,
     "metadata": {},
     "output_type": "execute_result"
    },
    {
     "data": {
      "image/png": "[encoded data removed]",
      "text/plain": [
       "<Figure size 640x480 with 1 Axes>"
      ]
     },
     "metadata": {},
     "output_type": "display_data"
    }
   ],
   "source": [
    "plt.scatter(attrs[:, 0], attrs[:, 1])"
   ]
  },
  {
   "cell_type": "code",
   "execution_count": 28,
   "id": "5b5696c7-0608-4814-8463-2bc4cfd4af1d",
   "metadata": {},
   "outputs": [
    {
     "data": {
      "text/plain": [
       "<matplotlib.collections.PathCollection at 0x140cd6b45b0>"
      ]
     },
     "execution_count": 28,
     "metadata": {},
     "output_type": "execute_result"
    },
    {
     "data": {
      "image/png": "[encoded data removed]",
      "text/plain": [
       "<Figure size 640x480 with 1 Axes>"
      ]
     },
     "metadata": {},
     "output_type": "display_data"
    }
   ],
   "source": [
    "plt.scatter(attrs[:, 2], attrs[:, 3])"
   ]
  },
  {
   "cell_type": "code",
   "execution_count": 29,
   "id": "e525e42f-1bc5-4e5a-be2c-96ed796b72ce",
   "metadata": {},
   "outputs": [
    {
     "data": {
      "text/plain": [
       "array([4.22824171, 0.24267075, 0.0782095 , 0.02383509])"
      ]
     },
     "execution_count": 29,
     "metadata": {},
     "output_type": "execute_result"
    }
   ],
   "source": [
    "pca.explained_variance_"
   ]
  },
  {
   "cell_type": "code",
   "execution_count": 31,
   "id": "9f5629c3-5c4c-479a-a2ce-1100f3919d0e",
   "metadata": {},
   "outputs": [
    {
     "data": {
      "text/plain": [
       "array([0.92461872, 0.05306648, 0.01710261, 0.00521218])"
      ]
     },
     "execution_count": 31,
     "metadata": {},
     "output_type": "execute_result"
    }
   ],
   "source": [
    "# this points out the importance of the features\n",
    "pca.explained_variance_ratio_"
   ]
  },
  {
   "cell_type": "code",
   "execution_count": 33,
   "id": "212e8aad-b069-408a-aa88-02e53d5be6ab",
   "metadata": {},
   "outputs": [
    {
     "data": {
      "text/plain": [
       "array([0.92461872, 0.97768521, 0.99478782, 1.        ])"
      ]
     },
     "execution_count": 33,
     "metadata": {},
     "output_type": "execute_result"
    }
   ],
   "source": [
    "pca.explained_variance_ratio_.cumsum()"
   ]
  },
  {
   "cell_type": "code",
   "execution_count": 46,
   "id": "9f143d71-7673-4868-bb4c-94f18546f576",
   "metadata": {},
   "outputs": [],
   "source": [
    "x = np.random.normal(loc=3.5, scale=3, size=250)\n",
    "y = np.random.normal(loc=2.4, scale=2, size=250)"
   ]
  },
  {
   "cell_type": "code",
   "execution_count": 47,
   "id": "10f375de-96e0-464a-860b-d9f81e291e1e",
   "metadata": {},
   "outputs": [
    {
     "data": {
      "image/png": "[encoded data removed]",
      "text/plain": [
       "<Figure size 640x480 with 1 Axes>"
      ]
     },
     "metadata": {},
     "output_type": "display_data"
    }
   ],
   "source": [
    "plt.scatter(x, y)\n",
    "plt.gca().set_aspect('equal')\n",
    "plt.show()"
   ]
  },
  {
   "cell_type": "code",
   "execution_count": 55,
   "id": "d38331e9-fb92-4c12-a187-37d260699b4f",
   "metadata": {},
   "outputs": [],
   "source": [
    "points = np.array([x, y]).T"
   ]
  },
  {
   "cell_type": "code",
   "execution_count": 60,
   "id": "7391c7c3-2315-4550-bccb-968197714753",
   "metadata": {},
   "outputs": [
    {
     "data": {
      "image/png": "[encoded data removed]",
      "text/plain": [
       "<Figure size 640x480 with 1 Axes>"
      ]
     },
     "metadata": {},
     "output_type": "display_data"
    }
   ],
   "source": [
    "plt.scatter(points[:, 0], points[:, 1])\n",
    "plt.show()"
   ]
  },
  {
   "cell_type": "code",
   "execution_count": 70,
   "id": "b1b00fab-6d86-48a3-a9d9-17e70fb2cf35",
   "metadata": {},
   "outputs": [],
   "source": [
    "result = points @ np.array([[1, 0.5], [1, 1]]) "
   ]
  },
  {
   "cell_type": "code",
   "execution_count": 73,
   "id": "07a5545d-2413-46be-83a1-565c988d91e2",
   "metadata": {},
   "outputs": [
    {
     "data": {
      "image/png": "[encoded data removed]",
      "text/plain": [
       "<Figure size 640x480 with 1 Axes>"
      ]
     },
     "metadata": {},
     "output_type": "display_data"
    }
   ],
   "source": [
    "plt.scatter(result[:, 0], result[:, 1], s=0.8)\n",
    "plt.show()"
   ]
  },
  {
   "cell_type": "markdown",
   "id": "3526a2e7-d901-44b8-89a2-26f1b91a795c",
   "metadata": {},
   "source": [
    "We have data points, in this case generated. This data has own coordinate system. The basis, [[0, 1], [1, 0]], does not describe well the data.\n",
    "1. we must shift the center to describe the data\n",
    "2. we must change the dimensions (rotate the base vectors)"
   ]
  },
  {
   "cell_type": "code",
   "execution_count": 74,
   "id": "09f8d0d9-7196-4b5f-a4e1-b75aaaa8f27d",
   "metadata": {},
   "outputs": [],
   "source": [
    "data = result.copy()"
   ]
  },
  {
   "cell_type": "code",
   "execution_count": 77,
   "id": "91cfe829-2400-4fcc-9cd5-dbc06d933c52",
   "metadata": {},
   "outputs": [
    {
     "data": {
      "text/plain": [
       "array([5.89129734, 4.11219483])"
      ]
     },
     "execution_count": 77,
     "metadata": {},
     "output_type": "execute_result"
    }
   ],
   "source": [
    "# find the center\n",
    "data.mean(axis=0)"
   ]
  },
  {
   "cell_type": "code",
   "execution_count": null,
   "id": "4c117696-c94e-41c4-bf30-4963c7bf5a48",
   "metadata": {},
   "outputs": [],
   "source": [
    "# this should be the center"
   ]
  },
  {
   "cell_type": "code",
   "execution_count": 78,
   "id": "ac1c6f39-8379-440d-ba8b-0d9e0f3643ab",
   "metadata": {},
   "outputs": [],
   "source": [
    "# check how similar th correaltion and covariations are"
   ]
  },
  {
   "cell_type": "code",
   "execution_count": 84,
   "id": "732ca3b7-8951-44ec-8dd1-5ec7e967c368",
   "metadata": {},
   "outputs": [],
   "source": [
    "covariance_matrix = np.cov(data, rowvar=False)"
   ]
  },
  {
   "cell_type": "code",
   "execution_count": 82,
   "id": "db18b7b7-e2a4-4d2c-8c70-e0e9a694b236",
   "metadata": {},
   "outputs": [
    {
     "data": {
      "text/plain": [
       "array([[1.        , 0.94979864],\n",
       "       [0.94979864, 1.        ]])"
      ]
     },
     "execution_count": 82,
     "metadata": {},
     "output_type": "execute_result"
    }
   ],
   "source": [
    "np.corrcoef(data, rowvar=False)"
   ]
  },
  {
   "cell_type": "markdown",
   "id": "dbc441e5-a6e9-4476-bf4c-d73b735182de",
   "metadata": {},
   "source": [
    "so I want the matrix of covarriations in the data to be represented\n",
    " in different way\n",
    "[2000, 0]\n",
    "[0,    18]\n",
    "This is called 'diagonalization'"
   ]
  },
  {
   "cell_type": "code",
   "execution_count": 88,
   "id": "ed4cda97-674b-49dc-bd4c-28bae2467c3b",
   "metadata": {},
   "outputs": [],
   "source": [
    "vecotrs = np.linalg.eig(covariance_matrix).eigenvectors"
   ]
  },
  {
   "cell_type": "code",
   "execution_count": 93,
   "id": "fe8cba51-db09-4fa3-ae54-1c749b4954ce",
   "metadata": {},
   "outputs": [
    {
     "data": {
      "text/plain": [
       "0.0"
      ]
     },
     "execution_count": 93,
     "metadata": {},
     "output_type": "execute_result"
    }
   ],
   "source": [
    "# to see that the vetors are ortigonal\n",
    "vecotrs[:, 0].dot(vecotrs[:, 1])"
   ]
  },
  {
   "cell_type": "code",
   "execution_count": 94,
   "id": "6f3de0ac-6d1f-41e4-a9b5-ce0853110360",
   "metadata": {},
   "outputs": [
    {
     "data": {
      "text/plain": [
       "array([[ 1.61220124e+01,  1.13868898e+01],\n",
       "       [ 2.44263554e+00,  1.72866694e+00],\n",
       "       [ 1.22091231e+01,  7.48905898e+00],\n",
       "       [ 6.85144867e+00,  6.19323769e+00],\n",
       "       [ 6.96713069e+00,  5.53490618e+00],\n",
       "       [ 7.33268554e+00,  6.02418131e+00],\n",
       "       [ 3.11336906e+00,  2.15074987e+00],\n",
       "       [ 4.31580862e+00,  3.48624017e+00],\n",
       "       [ 1.07109283e+01,  6.49714102e+00],\n",
       "       [ 8.70737015e+00,  5.86074045e+00],\n",
       "       [ 5.05036426e+00,  4.75066710e+00],\n",
       "       [ 9.60736008e+00,  5.41765126e+00],\n",
       "       [ 9.30780809e+00,  6.01948223e+00],\n",
       "       [ 1.18166409e+01,  7.91507363e+00],\n",
       "       [-2.11889359e+00, -1.19971130e+00],\n",
       "       [ 5.94077503e+00,  4.92588200e+00],\n",
       "       [ 6.44184078e+00,  6.06722733e+00],\n",
       "       [ 5.26182944e+00,  3.82374609e+00],\n",
       "       [ 1.04419268e+01,  7.41261808e+00],\n",
       "       [ 2.78916754e+00,  1.41283832e+00],\n",
       "       [ 6.95034433e-01,  1.33657916e+00],\n",
       "       [ 1.02499196e+01,  7.47383504e+00],\n",
       "       [ 2.64636847e+00,  1.87709070e+00],\n",
       "       [-9.06914865e-01,  5.01712317e-01],\n",
       "       [-1.23486579e+00,  7.30304170e-02],\n",
       "       [ 5.25154580e+00,  4.97860910e+00],\n",
       "       [ 5.62632653e+00,  3.01216501e+00],\n",
       "       [ 8.26914886e+00,  6.05202753e+00],\n",
       "       [ 4.63428169e+00,  3.26134532e+00],\n",
       "       [ 4.43160717e+00,  3.34628146e+00],\n",
       "       [ 1.25146072e+01,  8.95374906e+00],\n",
       "       [ 8.20750740e+00,  4.92773995e+00],\n",
       "       [ 4.15700480e+00,  4.04378371e+00],\n",
       "       [ 3.27910854e+00,  2.45743023e+00],\n",
       "       [ 8.31877032e+00,  6.34722863e+00],\n",
       "       [ 2.84193321e+00,  1.37751143e+00],\n",
       "       [ 5.73113310e+00,  3.44325385e+00],\n",
       "       [ 5.88464564e+00,  4.88325132e+00],\n",
       "       [ 5.41435715e+00,  2.95904972e+00],\n",
       "       [ 9.00140090e+00,  5.28446206e+00],\n",
       "       [ 6.27831170e+00,  5.44705858e+00],\n",
       "       [ 1.05646425e+01,  6.30091865e+00],\n",
       "       [ 7.92888397e+00,  5.34743967e+00],\n",
       "       [ 1.15851430e+01,  7.81692549e+00],\n",
       "       [ 6.62603388e+00,  4.24133791e+00],\n",
       "       [ 1.81996088e+00,  2.22454184e+00],\n",
       "       [ 7.76341681e+00,  4.89739314e+00],\n",
       "       [ 7.64398938e+00,  5.84642027e+00],\n",
       "       [ 6.56642524e+00,  5.87679391e+00],\n",
       "       [ 1.26075476e+01,  9.02762402e+00],\n",
       "       [ 1.47654214e+01,  9.01972189e+00],\n",
       "       [ 8.19119730e+00,  5.19382261e+00],\n",
       "       [ 2.30362635e+00,  8.86592388e-01],\n",
       "       [ 6.07931849e+00,  4.55180963e+00],\n",
       "       [ 1.22998814e+00,  1.63634279e+00],\n",
       "       [ 2.39636088e+00,  2.61085131e+00],\n",
       "       [ 2.78706310e+00,  1.17610629e+00],\n",
       "       [ 5.75839955e+00,  4.06283923e+00],\n",
       "       [-1.21017042e+00, -1.12781231e+00],\n",
       "       [ 7.62196156e+00,  6.03677705e+00],\n",
       "       [ 5.40573928e+00,  3.24653982e+00],\n",
       "       [ 6.09832797e+00,  4.51662464e+00],\n",
       "       [ 6.47514311e+00,  3.83653604e+00],\n",
       "       [ 1.07156334e+01,  7.01545625e+00],\n",
       "       [ 6.56993631e+00,  3.61737130e+00],\n",
       "       [ 6.02414940e+00,  4.72722102e+00],\n",
       "       [ 5.68539698e+00,  3.71819872e+00],\n",
       "       [-2.06836849e+00, -2.25616475e+00],\n",
       "       [ 1.12387718e+01,  7.56174353e+00],\n",
       "       [ 7.22594913e+00,  4.91416077e+00],\n",
       "       [ 6.28947423e+00,  4.50756573e+00],\n",
       "       [ 1.09605935e+01,  7.95029360e+00],\n",
       "       [ 1.73430689e+01,  1.09782830e+01],\n",
       "       [ 1.07917429e+01,  9.38411723e+00],\n",
       "       [ 5.15141312e+00,  2.72326167e+00],\n",
       "       [ 3.62765604e+00,  2.93754468e+00],\n",
       "       [ 4.73570119e+00,  4.24172600e+00],\n",
       "       [ 2.73809882e+00,  1.38409843e+00],\n",
       "       [ 9.19089818e+00,  6.23542937e+00],\n",
       "       [ 1.01519861e+01,  6.33899110e+00],\n",
       "       [ 3.38468081e+00,  2.32539619e+00],\n",
       "       [ 6.35158576e+00,  3.65697655e+00],\n",
       "       [-2.66720052e+00, -2.66626164e+00],\n",
       "       [ 1.41498140e+01,  1.07783304e+01],\n",
       "       [ 1.10849914e+01,  5.70386934e+00],\n",
       "       [ 6.93422939e+00,  5.12917894e+00],\n",
       "       [ 8.68254056e+00,  4.70969416e+00],\n",
       "       [ 7.62661835e+00,  5.49647368e+00],\n",
       "       [ 1.45412210e+01,  1.01663772e+01],\n",
       "       [ 6.64638893e+00,  4.41366242e+00],\n",
       "       [ 5.81322378e+00,  4.18296245e+00],\n",
       "       [ 1.97009673e+00,  1.50905219e+00],\n",
       "       [ 1.02301978e+01,  6.34812460e+00],\n",
       "       [ 6.28022787e+00,  4.72445102e+00],\n",
       "       [ 2.84789872e+00,  1.06436439e+00],\n",
       "       [ 5.68502750e+00,  4.66310789e+00],\n",
       "       [ 6.51472565e+00,  5.10977067e+00],\n",
       "       [ 8.70882034e+00,  3.96022887e+00],\n",
       "       [ 5.53564874e+00,  3.81615211e+00],\n",
       "       [ 4.83799268e+00,  3.78500249e+00],\n",
       "       [-1.28745582e-01,  2.31160901e-01],\n",
       "       [ 4.44183630e+00,  3.52143977e+00],\n",
       "       [ 9.12076340e+00,  6.55172397e+00],\n",
       "       [ 3.42975551e+00,  2.67961489e+00],\n",
       "       [ 6.00516706e-01,  1.89448060e-01],\n",
       "       [ 6.47320779e+00,  4.31184971e+00],\n",
       "       [ 9.67204338e-01, -4.54848446e-02],\n",
       "       [ 4.45155533e+00,  2.99019112e+00],\n",
       "       [ 1.08921502e+01,  8.05766886e+00],\n",
       "       [ 1.21470055e+01,  7.62521098e+00],\n",
       "       [ 1.04932017e+00,  1.26678044e+00],\n",
       "       [ 4.03647814e+00,  1.65849709e+00],\n",
       "       [ 8.07578017e+00,  4.97283042e+00],\n",
       "       [ 3.88052078e+00,  2.88065523e+00],\n",
       "       [ 7.95024637e+00,  4.11796508e+00],\n",
       "       [ 4.82129607e+00,  3.02610353e+00],\n",
       "       [ 4.17880662e+00,  4.39128850e+00],\n",
       "       [ 8.44573448e-01,  2.70628266e+00],\n",
       "       [ 6.66627055e+00,  5.50674472e+00],\n",
       "       [ 1.23144433e+01,  8.20017326e+00],\n",
       "       [ 4.34686575e+00,  3.17929999e+00],\n",
       "       [ 4.01944487e+00,  3.91026882e+00],\n",
       "       [ 8.04473786e+00,  6.84932890e+00],\n",
       "       [ 1.06577259e+01,  7.18670021e+00],\n",
       "       [ 8.81630611e+00,  5.30238830e+00],\n",
       "       [ 2.54497136e+00,  3.23322939e+00],\n",
       "       [ 6.71869393e-01, -6.98176802e-01],\n",
       "       [ 8.72981537e+00,  6.90605791e+00],\n",
       "       [ 4.04072547e+00,  4.12559474e+00],\n",
       "       [ 3.93952700e+00,  2.00835929e+00],\n",
       "       [ 1.31751234e+01,  8.25312968e+00],\n",
       "       [-2.13609410e-01,  1.23161881e+00],\n",
       "       [-6.82031840e-01, -9.01332276e-01],\n",
       "       [ 3.40171923e+00,  1.55751964e+00],\n",
       "       [ 1.43699143e+01,  8.36627082e+00],\n",
       "       [ 2.61794966e+00,  3.49367938e+00],\n",
       "       [ 4.68417651e+00,  4.53395894e+00],\n",
       "       [ 7.14923616e+00,  5.06509509e+00],\n",
       "       [ 3.60847803e+00,  3.68273983e+00],\n",
       "       [ 8.54624255e+00,  6.43618258e+00],\n",
       "       [ 9.01027993e+00,  4.64758659e+00],\n",
       "       [ 1.03247737e+00,  1.47854327e+00],\n",
       "       [ 6.87056761e+00,  4.83435253e+00],\n",
       "       [ 1.07350288e+01,  7.00337712e+00],\n",
       "       [ 5.43424235e+00,  4.90651828e+00],\n",
       "       [ 7.04101254e+00,  4.15733701e+00],\n",
       "       [ 4.53111941e+00,  3.90074459e+00],\n",
       "       [-1.70978053e+00, -1.13933691e+00],\n",
       "       [ 4.70508566e+00,  2.79138207e+00],\n",
       "       [ 8.57411864e+00,  6.21847901e+00],\n",
       "       [ 9.95747520e+00,  5.95851885e+00],\n",
       "       [ 2.56279750e+00,  2.49911024e+00],\n",
       "       [ 6.54176792e+00,  3.81536723e+00],\n",
       "       [ 6.10459072e+00,  4.04229585e+00],\n",
       "       [ 6.49543579e+00,  4.40894078e+00],\n",
       "       [ 1.30158267e+01,  9.56704354e+00],\n",
       "       [ 6.92499493e+00,  5.98488965e+00],\n",
       "       [ 1.20341354e+00,  1.96239077e+00],\n",
       "       [ 8.34729717e+00,  6.03462337e+00],\n",
       "       [ 5.56790382e+00,  2.76387305e+00],\n",
       "       [ 5.74280040e+00,  3.41787824e+00],\n",
       "       [-3.37897324e-01,  1.97820251e-01],\n",
       "       [-7.38751024e-02, -1.13907086e+00],\n",
       "       [ 8.07359219e+00,  6.52086894e+00],\n",
       "       [ 8.84132813e+00,  7.04242794e+00],\n",
       "       [ 2.85779921e+00,  1.07460521e+00],\n",
       "       [ 1.50817793e+00,  1.30372435e+00],\n",
       "       [ 4.25635026e+00,  2.57493303e+00],\n",
       "       [ 2.92013178e+00,  2.10297600e+00],\n",
       "       [ 7.43931850e+00,  4.59453353e+00],\n",
       "       [ 3.73542959e-01,  9.98012125e-01],\n",
       "       [ 1.11536079e+01,  6.26070972e+00],\n",
       "       [ 1.91023108e+00,  1.65882435e-03],\n",
       "       [ 1.40624043e+00,  3.93493556e-01],\n",
       "       [ 6.22355054e+00,  5.07600926e+00],\n",
       "       [ 1.51887896e+00,  1.08107800e+00],\n",
       "       [ 7.03645309e+00,  5.37814815e+00],\n",
       "       [ 1.22350224e+01,  9.37398208e+00],\n",
       "       [ 8.23186066e+00,  4.76627708e+00],\n",
       "       [ 4.95099613e-01,  8.73287727e-01],\n",
       "       [ 5.90266403e+00,  4.66202647e+00],\n",
       "       [ 2.34717024e+00,  2.68067697e+00],\n",
       "       [ 5.61598310e+00,  3.56215401e+00],\n",
       "       [ 3.93840465e+00,  1.65179182e+00],\n",
       "       [ 3.97097187e+00,  3.52699712e+00],\n",
       "       [ 2.90293377e+00,  1.59128099e+00],\n",
       "       [ 9.43291898e+00,  7.01494335e+00],\n",
       "       [ 6.15909960e+00,  5.56855669e+00],\n",
       "       [ 2.90804679e+00,  1.73241895e+00],\n",
       "       [ 1.92541309e+00,  2.24597699e+00],\n",
       "       [ 1.33546654e+00,  3.21774353e-01],\n",
       "       [ 2.86551817e+00,  3.38770348e+00],\n",
       "       [ 9.13313997e+00,  6.73916047e+00],\n",
       "       [ 6.63640279e+00,  5.07801426e+00],\n",
       "       [ 5.91397278e+00,  4.09626246e+00],\n",
       "       [ 5.95940125e+00,  3.43234420e+00],\n",
       "       [ 6.40096516e+00,  3.58399933e+00],\n",
       "       [ 3.38537280e-01,  1.78176537e-01],\n",
       "       [ 7.61487206e+00,  4.23047860e+00],\n",
       "       [ 4.56930354e+00,  3.28858268e+00],\n",
       "       [ 5.31279613e+00,  2.74414293e+00],\n",
       "       [ 6.94883289e+00,  5.12505195e+00],\n",
       "       [ 9.27118793e+00,  6.95165410e+00],\n",
       "       [ 8.14660311e+00,  7.51918031e+00],\n",
       "       [ 3.70724679e+00,  3.22303413e+00],\n",
       "       [ 7.64277369e-01,  4.46652852e-01],\n",
       "       [ 1.51446568e+00,  1.06472293e+00],\n",
       "       [ 6.62260688e+00,  4.85765515e+00],\n",
       "       [ 2.96925364e+00,  1.20123408e-01],\n",
       "       [ 3.57162010e+00,  2.32555569e+00],\n",
       "       [ 6.02681112e+00,  3.59664673e+00],\n",
       "       [ 8.72345416e+00,  4.91098741e+00],\n",
       "       [ 3.85765556e+00,  1.96414538e+00],\n",
       "       [ 1.42048451e+01,  9.73621158e+00],\n",
       "       [ 4.82305769e+00,  3.47249452e+00],\n",
       "       [ 7.17538891e+00,  4.59637135e+00],\n",
       "       [ 1.34492735e+01,  8.57198225e+00],\n",
       "       [ 6.16161918e+00,  4.47128891e+00],\n",
       "       [ 1.11704613e+01,  7.70889470e+00],\n",
       "       [ 6.02091731e+00,  5.71333027e+00],\n",
       "       [ 7.42101961e+00,  4.89831178e+00],\n",
       "       [-5.13906333e-01, -2.44041438e-01],\n",
       "       [ 6.75272889e+00,  4.38850513e+00],\n",
       "       [ 4.89078738e+00,  3.67732377e+00],\n",
       "       [ 6.95958048e+00,  4.61879348e+00],\n",
       "       [ 8.39402743e+00,  5.92302417e+00],\n",
       "       [ 3.97773984e-01, -6.83249371e-01],\n",
       "       [ 3.43635603e+00,  3.49111545e+00],\n",
       "       [-4.28164629e-02,  6.83040821e-01],\n",
       "       [ 5.66550966e+00,  2.91200080e+00],\n",
       "       [ 3.24622780e+00,  2.98998263e+00],\n",
       "       [ 5.06028460e+00,  3.47462405e+00],\n",
       "       [ 3.28859023e+00,  2.17285829e+00],\n",
       "       [ 5.80565542e+00,  4.24734416e+00],\n",
       "       [-3.39333070e+00, -9.33624877e-01],\n",
       "       [ 2.76065012e+00,  2.36989351e+00],\n",
       "       [ 1.11843119e+01,  7.03347624e+00],\n",
       "       [ 1.11501870e+00,  3.30143531e+00],\n",
       "       [ 4.22543116e+00,  3.76536816e+00],\n",
       "       [ 8.06073816e+00,  4.66141432e+00],\n",
       "       [ 5.43466150e+00,  3.17045050e+00],\n",
       "       [ 8.09949453e+00,  5.82621370e+00],\n",
       "       [ 1.28590155e+01,  8.28088114e+00],\n",
       "       [ 7.09594477e+00,  4.18095895e+00],\n",
       "       [ 1.70987705e+00, -5.81089943e-01],\n",
       "       [ 4.45639162e+00,  2.36649220e+00],\n",
       "       [ 9.73131952e+00,  6.27696847e+00],\n",
       "       [ 6.79804869e+00,  4.93380561e+00],\n",
       "       [ 9.55879946e+00,  5.18294378e+00],\n",
       "       [ 5.47072958e+00,  4.66175215e+00]])"
      ]
     },
     "execution_count": 94,
     "metadata": {},
     "output_type": "execute_result"
    }
   ],
   "source": [
    "data"
   ]
  },
  {
   "cell_type": "code",
   "execution_count": 95,
   "id": "05a62ceb-a154-4b4e-9deb-cb1893972fc7",
   "metadata": {},
   "outputs": [
    {
     "data": {
      "text/plain": [
       "array([[ 0.83143799,  0.55561755],\n",
       "       [-0.55561755,  0.83143799]])"
      ]
     },
     "execution_count": 95,
     "metadata": {},
     "output_type": "execute_result"
    }
   ],
   "source": [
    "pca.fit(data).components_"
   ]
  },
  {
   "cell_type": "code",
   "execution_count": 96,
   "id": "66aadfec-74fa-436f-a59e-39c243ae9134",
   "metadata": {},
   "outputs": [],
   "source": [
    "transformed_data = pca.transform(data)"
   ]
  },
  {
   "cell_type": "code",
   "execution_count": 99,
   "id": "9a44dab7-c716-4b93-a581-629339ed63ba",
   "metadata": {},
   "outputs": [
    {
     "data": {
      "image/png": "[encoded data removed]",
      "text/plain": [
       "<Figure size 640x480 with 1 Axes>"
      ]
     },
     "metadata": {},
     "output_type": "display_data"
    }
   ],
   "source": [
    "plt.scatter(transformed_data[:, 0], transformed_data[:, 1], s=0.7)\n",
    "plt.gca().set_aspect('equal')\n",
    "plt.show()"
   ]
  },
  {
   "cell_type": "code",
   "execution_count": 100,
   "id": "ce697f56-62b0-43af-b89f-6ea8776bc3bc",
   "metadata": {},
   "outputs": [],
   "source": [
    "# reducing by removing the 2nd feature\n",
    "# plotting data in 1dimn"
   ]
  },
  {
   "cell_type": "code",
   "execution_count": 101,
   "id": "b68bba7b-9857-4b61-9160-eadee0f76765",
   "metadata": {},
   "outputs": [],
   "source": [
    "pca = PCA(n_components=1)\n",
    "pca.fit(data)\n",
    "transformed_data = pca.transform(data)"
   ]
  },
  {
   "cell_type": "code",
   "execution_count": 111,
   "id": "964117b9-d2d5-4526-b086-a1f0c1b8d691",
   "metadata": {},
   "outputs": [
    {
     "data": {
      "image/png": "[encoded data removed]",
      "text/plain": [
       "<Figure size 640x480 with 1 Axes>"
      ]
     },
     "metadata": {},
     "output_type": "display_data"
    }
   ],
   "source": [
    "plt.scatter(transformed_data[:,0], [0] * len(transformed_data), s=0.7)\n",
    "plt.ylim(-0.5, 0.5)\n",
    "plt.gca().set_aspect('equal')\n",
    "plt.show()"
   ]
  },
  {
   "cell_type": "code",
   "execution_count": null,
   "id": "26b15400-98d9-45f4-bd24-896b9c1bca2a",
   "metadata": {},
   "outputs": [],
   "source": []
  }
 ],
 "metadata": {
  "kernelspec": {
   "display_name": "Python 3 (ipykernel)",
   "language": "python",
   "name": "python3"
  },
  "language_info": {
   "codemirror_mode": {
    "name": "ipython",
    "version": 3
   },
   "file_extension": ".py",
   "mimetype": "text/x-python",
   "name": "python",
   "nbconvert_exporter": "python",
   "pygments_lexer": "ipython3",
   "version": "3.9.19"
  }
 },
 "nbformat": 4,
 "nbformat_minor": 5
}
